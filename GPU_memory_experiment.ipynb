{
 "cells": [
  {
   "cell_type": "code",
   "execution_count": 1,
   "id": "34df2264-322f-4f6b-a8a2-0ff3e5e2dbf8",
   "metadata": {},
   "outputs": [
    {
     "name": "stderr",
     "output_type": "stream",
     "text": [
      "/home/dahen/miniconda3/envs/conda_master/lib/python3.10/site-packages/tqdm/auto.py:22: TqdmWarning: IProgress not found. Please update jupyter and ipywidgets. See https://ipywidgets.readthedocs.io/en/stable/user_install.html\n",
      "  from .autonotebook import tqdm as notebook_tqdm\n"
     ]
    }
   ],
   "source": [
    "import torch\n",
    "from torch.utils import data\n",
    "from torch import optim\n",
    "import torch.nn as nn\n",
    "import torch.nn.functional as F\n",
    "import cv2\n",
    "import numpy as np\n",
    "from os import listdir\n",
    "from os.path import isfile, join\n",
    "from tqdm import tqdm\n",
    "from datetime import datetime\n",
    "from Nets import nets, PreActResNets, resnet_v2\n",
    "\n",
    "TMA_array_path = '/data/Breast/TMA/bliss_data/17-002/Ki67[SP6]-Thermo'\n",
    "onlyfiles = [f for f in listdir(TMA_array_path) if isfile(join(TMA_array_path, f)) and f.endswith('jpg')]"
   ]
  },
  {
   "cell_type": "code",
   "execution_count": 2,
   "id": "1bc69558-3b95-45e9-92bb-873c890a3195",
   "metadata": {},
   "outputs": [
    {
     "name": "stderr",
     "output_type": "stream",
     "text": [
      "100%|███████████████████████████████████████████████████████████| 1188/1188 [00:23<00:00, 50.90it/s]\n",
      "/tmp/ipykernel_126070/425953418.py:10: UserWarning: Creating a tensor from a list of numpy.ndarrays is extremely slow. Please consider converting the list to a single numpy.ndarray with numpy.array() before converting to a tensor. (Triggered internally at  /opt/conda/conda-bld/pytorch_1659484803030/work/torch/csrc/utils/tensor_new.cpp:201.)\n",
      "  inps = torch.FloatTensor(inps)\n"
     ]
    }
   ],
   "source": [
    "inps = []\n",
    "img_size = 256\n",
    "for im_name in tqdm(onlyfiles):\n",
    "    im = cv2.imread(join(TMA_array_path, im_name))\n",
    "    (height,width)=im.shape[:2]\n",
    "    im = im[int(height/2.0-img_size/2.0):int(height/2.0+img_size/2.0), \n",
    "            int(width/2.0-img_size/2.0):int(width/2.0+img_size/2.0),\n",
    "            :]\n",
    "    inps.append(np.transpose(im, axes=(2, 0, 1)))\n",
    "inps = torch.FloatTensor(inps)"
   ]
  },
  {
   "cell_type": "code",
   "execution_count": 3,
   "id": "5bda0f5a-3a84-4b5a-aee1-56e5c2f3a534",
   "metadata": {},
   "outputs": [
    {
     "name": "stdout",
     "output_type": "stream",
     "text": [
      "torch.Size([11880, 3, 256, 256])\n"
     ]
    }
   ],
   "source": [
    "inps = inps.repeat(10, 1, 1, 1)\n",
    "print(inps.shape)\n",
    "tgts = torch.ones(len(inps)*2, dtype=torch.float32).view(len(inps), 2)\n",
    "dataset = data.TensorDataset(inps, tgts)"
   ]
  },
  {
   "cell_type": "code",
   "execution_count": 4,
   "id": "7a1ee26e-0c34-4863-886e-e929c9bc7327",
   "metadata": {},
   "outputs": [
    {
     "name": "stdout",
     "output_type": "stream",
     "text": [
      "PreActResNets.PreActResNet50_Ron()\n",
      "93 batches took 0:01:54.006530 time, 0:00:01.225877 per batch\n"
     ]
    }
   ],
   "source": [
    "device = torch.device('cuda') \n",
    "model = PreActResNets.PreActResNet50_Ron().to(device)\n",
    "loss_fn = torch.nn.CrossEntropyLoss()\n",
    "optimizer = optim.Adam(model.parameters(), lr=0.01)\n",
    "loader = data.DataLoader(dataset, batch_size=129, pin_memory=True, num_workers=8)\n",
    "\n",
    "start_time = datetime.now()\n",
    "\n",
    "for batch_ndx, sample in enumerate(loader):\n",
    "    # Every data instance is an input + label pair\n",
    "    inputs, labels = sample\n",
    "    inputs = inputs.to(device)\n",
    "    labels = labels.to(device)\n",
    "\n",
    "    # Zero your gradients for every batch!\n",
    "    optimizer.zero_grad()\n",
    "\n",
    "    # Make predictions for this batch\n",
    "    outputs = model(inputs)[0][:, 0:2]\n",
    "\n",
    "    # Compute the loss and its gradients\n",
    "    loss = loss_fn(outputs, labels)\n",
    "    loss.backward()\n",
    "\n",
    "#         t = torch.cuda.get_device_properties(0).total_memory\n",
    "#         r = torch.cuda.memory_reserved(0)\n",
    "#         a = torch.cuda.memory_allocated(0)\n",
    "\n",
    "#         print(f'total mem: {t}\\n avail mem: {a}\\n')\n",
    "\n",
    "    # Adjust learning weights\n",
    "    optimizer.step()\n",
    "    \n",
    "delta_time = datetime.now() - start_time\n",
    "print(f\"{len(loader)} batches took {delta_time} time, {delta_time/len(loader)} per batch\")"
   ]
  }
 ],
 "metadata": {
  "kernelspec": {
   "display_name": "Python 3 (ipykernel)",
   "language": "python",
   "name": "python3"
  },
  "language_info": {
   "codemirror_mode": {
    "name": "ipython",
    "version": 3
   },
   "file_extension": ".py",
   "mimetype": "text/x-python",
   "name": "python",
   "nbconvert_exporter": "python",
   "pygments_lexer": "ipython3",
   "version": "3.10.6"
  }
 },
 "nbformat": 4,
 "nbformat_minor": 5
}
