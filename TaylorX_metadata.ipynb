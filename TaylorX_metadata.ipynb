{
 "cells": [
  {
   "cell_type": "code",
   "execution_count": 1,
   "metadata": {},
   "outputs": [
    {
     "name": "stderr",
     "output_type": "stream",
     "text": [
      "/home/dahen/miniconda3/envs/conda_master/lib/python3.10/site-packages/tqdm/auto.py:22: TqdmWarning: IProgress not found. Please update jupyter and ipywidgets. See https://ipywidgets.readthedocs.io/en/stable/user_install.html\n",
      "  from .autonotebook import tqdm as notebook_tqdm\n"
     ]
    }
   ],
   "source": [
    "import numpy as np\n",
    "import pandas as pd\n",
    "from pathlib import Path\n",
    "from wsi.core import utils\n",
    "np.random.seed(0)"
   ]
  },
  {
   "cell_type": "markdown",
   "metadata": {},
   "source": [
    "## Reading the relevent TaylorX data"
   ]
  },
  {
   "cell_type": "code",
   "execution_count": 2,
   "metadata": {},
   "outputs": [
    {
     "ename": "BlockingIOError",
     "evalue": "[Errno 11] Resource temporarily unavailable: '/mnt/gipmed_new/Data/data_QA_and_bad_slides/HE_TAILORx/slide_review_list_TAILORX.xlsx'",
     "output_type": "error",
     "traceback": [
      "\u001b[0;31m---------------------------------------------------------------------------\u001b[0m",
      "\u001b[0;31mBlockingIOError\u001b[0m                           Traceback (most recent call last)",
      "\u001b[1;32m/home/dahen/WSI/TaylorX_metadata.ipynb Cell 3\u001b[0m line \u001b[0;36m4\n\u001b[1;32m      <a href='vscode-notebook-cell://tunnel%2Bgipdeep10/home/dahen/WSI/TaylorX_metadata.ipynb#W2sdnNjb2RlLXJlbW90ZQ%3D%3D?line=1'>2</a>\u001b[0m slide_data \u001b[39m=\u001b[39m pd\u001b[39m.\u001b[39mread_excel(\u001b[39m\"\u001b[39m\u001b[39m/data/unsynced_data/Breast/TAILORx/Deid/TAILORx_1/slides_data_TAILORx_1.xlsx\u001b[39m\u001b[39m\"\u001b[39m)\n\u001b[1;32m      <a href='vscode-notebook-cell://tunnel%2Bgipdeep10/home/dahen/WSI/TaylorX_metadata.ipynb#W2sdnNjb2RlLXJlbW90ZQ%3D%3D?line=2'>3</a>\u001b[0m patient_slide_connection \u001b[39m=\u001b[39m pd\u001b[39m.\u001b[39mread_excel(\u001b[39m\"\u001b[39m\u001b[39m/data/unsynced_data/Breast/TAILORx/PACT1 Blinded Digital Slides Final Manifest - Revised.xlsx\u001b[39m\u001b[39m\"\u001b[39m)\n\u001b[0;32m----> <a href='vscode-notebook-cell://tunnel%2Bgipdeep10/home/dahen/WSI/TaylorX_metadata.ipynb#W2sdnNjb2RlLXJlbW90ZQ%3D%3D?line=3'>4</a>\u001b[0m deleted_slides \u001b[39m=\u001b[39m pd\u001b[39m.\u001b[39;49mread_excel(\u001b[39m\"\u001b[39;49m\u001b[39m/mnt/gipmed_new/Data/data_QA_and_bad_slides/HE_TAILORx/slide_review_list_TAILORX.xlsx\u001b[39;49m\u001b[39m\"\u001b[39;49m, \u001b[39m'\u001b[39;49m\u001b[39mbad slides\u001b[39;49m\u001b[39m'\u001b[39;49m)\n",
      "File \u001b[0;32m~/miniconda3/envs/conda_master/lib/python3.10/site-packages/pandas/util/_decorators.py:311\u001b[0m, in \u001b[0;36mdeprecate_nonkeyword_arguments.<locals>.decorate.<locals>.wrapper\u001b[0;34m(*args, **kwargs)\u001b[0m\n\u001b[1;32m    305\u001b[0m \u001b[39mif\u001b[39;00m \u001b[39mlen\u001b[39m(args) \u001b[39m>\u001b[39m num_allow_args:\n\u001b[1;32m    306\u001b[0m     warnings\u001b[39m.\u001b[39mwarn(\n\u001b[1;32m    307\u001b[0m         msg\u001b[39m.\u001b[39mformat(arguments\u001b[39m=\u001b[39marguments),\n\u001b[1;32m    308\u001b[0m         \u001b[39mFutureWarning\u001b[39;00m,\n\u001b[1;32m    309\u001b[0m         stacklevel\u001b[39m=\u001b[39mstacklevel,\n\u001b[1;32m    310\u001b[0m     )\n\u001b[0;32m--> 311\u001b[0m \u001b[39mreturn\u001b[39;00m func(\u001b[39m*\u001b[39;49margs, \u001b[39m*\u001b[39;49m\u001b[39m*\u001b[39;49mkwargs)\n",
      "File \u001b[0;32m~/miniconda3/envs/conda_master/lib/python3.10/site-packages/pandas/io/excel/_base.py:457\u001b[0m, in \u001b[0;36mread_excel\u001b[0;34m(io, sheet_name, header, names, index_col, usecols, squeeze, dtype, engine, converters, true_values, false_values, skiprows, nrows, na_values, keep_default_na, na_filter, verbose, parse_dates, date_parser, thousands, decimal, comment, skipfooter, convert_float, mangle_dupe_cols, storage_options)\u001b[0m\n\u001b[1;32m    455\u001b[0m \u001b[39mif\u001b[39;00m \u001b[39mnot\u001b[39;00m \u001b[39misinstance\u001b[39m(io, ExcelFile):\n\u001b[1;32m    456\u001b[0m     should_close \u001b[39m=\u001b[39m \u001b[39mTrue\u001b[39;00m\n\u001b[0;32m--> 457\u001b[0m     io \u001b[39m=\u001b[39m ExcelFile(io, storage_options\u001b[39m=\u001b[39;49mstorage_options, engine\u001b[39m=\u001b[39;49mengine)\n\u001b[1;32m    458\u001b[0m \u001b[39melif\u001b[39;00m engine \u001b[39mand\u001b[39;00m engine \u001b[39m!=\u001b[39m io\u001b[39m.\u001b[39mengine:\n\u001b[1;32m    459\u001b[0m     \u001b[39mraise\u001b[39;00m \u001b[39mValueError\u001b[39;00m(\n\u001b[1;32m    460\u001b[0m         \u001b[39m\"\u001b[39m\u001b[39mEngine should not be specified when passing \u001b[39m\u001b[39m\"\u001b[39m\n\u001b[1;32m    461\u001b[0m         \u001b[39m\"\u001b[39m\u001b[39man ExcelFile - ExcelFile already has the engine set\u001b[39m\u001b[39m\"\u001b[39m\n\u001b[1;32m    462\u001b[0m     )\n",
      "File \u001b[0;32m~/miniconda3/envs/conda_master/lib/python3.10/site-packages/pandas/io/excel/_base.py:1376\u001b[0m, in \u001b[0;36mExcelFile.__init__\u001b[0;34m(self, path_or_buffer, engine, storage_options)\u001b[0m\n\u001b[1;32m   1374\u001b[0m     ext \u001b[39m=\u001b[39m \u001b[39m\"\u001b[39m\u001b[39mxls\u001b[39m\u001b[39m\"\u001b[39m\n\u001b[1;32m   1375\u001b[0m \u001b[39melse\u001b[39;00m:\n\u001b[0;32m-> 1376\u001b[0m     ext \u001b[39m=\u001b[39m inspect_excel_format(\n\u001b[1;32m   1377\u001b[0m         content_or_path\u001b[39m=\u001b[39;49mpath_or_buffer, storage_options\u001b[39m=\u001b[39;49mstorage_options\n\u001b[1;32m   1378\u001b[0m     )\n\u001b[1;32m   1379\u001b[0m     \u001b[39mif\u001b[39;00m ext \u001b[39mis\u001b[39;00m \u001b[39mNone\u001b[39;00m:\n\u001b[1;32m   1380\u001b[0m         \u001b[39mraise\u001b[39;00m \u001b[39mValueError\u001b[39;00m(\n\u001b[1;32m   1381\u001b[0m             \u001b[39m\"\u001b[39m\u001b[39mExcel file format cannot be determined, you must specify \u001b[39m\u001b[39m\"\u001b[39m\n\u001b[1;32m   1382\u001b[0m             \u001b[39m\"\u001b[39m\u001b[39man engine manually.\u001b[39m\u001b[39m\"\u001b[39m\n\u001b[1;32m   1383\u001b[0m         )\n",
      "File \u001b[0;32m~/miniconda3/envs/conda_master/lib/python3.10/site-packages/pandas/io/excel/_base.py:1250\u001b[0m, in \u001b[0;36minspect_excel_format\u001b[0;34m(content_or_path, storage_options)\u001b[0m\n\u001b[1;32m   1247\u001b[0m \u001b[39mif\u001b[39;00m \u001b[39misinstance\u001b[39m(content_or_path, \u001b[39mbytes\u001b[39m):\n\u001b[1;32m   1248\u001b[0m     content_or_path \u001b[39m=\u001b[39m BytesIO(content_or_path)\n\u001b[0;32m-> 1250\u001b[0m \u001b[39mwith\u001b[39;00m get_handle(\n\u001b[1;32m   1251\u001b[0m     content_or_path, \u001b[39m\"\u001b[39;49m\u001b[39mrb\u001b[39;49m\u001b[39m\"\u001b[39;49m, storage_options\u001b[39m=\u001b[39;49mstorage_options, is_text\u001b[39m=\u001b[39;49m\u001b[39mFalse\u001b[39;49;00m\n\u001b[1;32m   1252\u001b[0m ) \u001b[39mas\u001b[39;00m handle:\n\u001b[1;32m   1253\u001b[0m     stream \u001b[39m=\u001b[39m handle\u001b[39m.\u001b[39mhandle\n\u001b[1;32m   1254\u001b[0m     stream\u001b[39m.\u001b[39mseek(\u001b[39m0\u001b[39m)\n",
      "File \u001b[0;32m~/miniconda3/envs/conda_master/lib/python3.10/site-packages/pandas/io/common.py:795\u001b[0m, in \u001b[0;36mget_handle\u001b[0;34m(path_or_buf, mode, encoding, compression, memory_map, is_text, errors, storage_options)\u001b[0m\n\u001b[1;32m    786\u001b[0m         handle \u001b[39m=\u001b[39m \u001b[39mopen\u001b[39m(\n\u001b[1;32m    787\u001b[0m             handle,\n\u001b[1;32m    788\u001b[0m             ioargs\u001b[39m.\u001b[39mmode,\n\u001b[0;32m   (...)\u001b[0m\n\u001b[1;32m    791\u001b[0m             newline\u001b[39m=\u001b[39m\u001b[39m\"\u001b[39m\u001b[39m\"\u001b[39m,\n\u001b[1;32m    792\u001b[0m         )\n\u001b[1;32m    793\u001b[0m     \u001b[39melse\u001b[39;00m:\n\u001b[1;32m    794\u001b[0m         \u001b[39m# Binary mode\u001b[39;00m\n\u001b[0;32m--> 795\u001b[0m         handle \u001b[39m=\u001b[39m \u001b[39mopen\u001b[39;49m(handle, ioargs\u001b[39m.\u001b[39;49mmode)\n\u001b[1;32m    796\u001b[0m     handles\u001b[39m.\u001b[39mappend(handle)\n\u001b[1;32m    798\u001b[0m \u001b[39m# Convert BytesIO or file objects passed with an encoding\u001b[39;00m\n",
      "\u001b[0;31mBlockingIOError\u001b[0m: [Errno 11] Resource temporarily unavailable: '/mnt/gipmed_new/Data/data_QA_and_bad_slides/HE_TAILORx/slide_review_list_TAILORX.xlsx'"
     ]
    }
   ],
   "source": [
    "patient_data = pd.read_csv(\"/data/unsynced_data/Breast/TAILORx/NCT00310180-D1-Dataset.csv\")\n",
    "slide_data = pd.read_excel(\"/data/unsynced_data/Breast/TAILORx/Deid/TAILORx_1/slides_data_TAILORx_1.xlsx\")\n",
    "patient_slide_connection = pd.read_excel(\"/data/unsynced_data/Breast/TAILORx/PACT1 Blinded Digital Slides Final Manifest - Revised.xlsx\")\n",
    "deleted_slides = pd.read_excel(\"/mnt/gipmed_new/Data/data_QA_and_bad_slides/HE_TAILORx/slide_review_list_TAILORX.xlsx\", 'bad slides')"
   ]
  },
  {
   "cell_type": "markdown",
   "metadata": {},
   "source": [
    "## Reading current largest metadata"
   ]
  },
  {
   "cell_type": "code",
   "execution_count": null,
   "metadata": {},
   "outputs": [],
   "source": [
    "current_meta = pd.read_csv(\"metadata_csvs/largest_current_metadata.csv\")"
   ]
  },
  {
   "cell_type": "markdown",
   "metadata": {},
   "source": [
    "## data treatment"
   ]
  },
  {
   "cell_type": "code",
   "execution_count": null,
   "metadata": {},
   "outputs": [
    {
     "name": "stdout",
     "output_type": "stream",
     "text": [
      "current meta keys are: Index(['Unnamed: 0', 'file', 'patient_barcode', 'id', 'mpp', 'total_tiles',\n",
      "       'tiles_count', 'legitimate_tiles', 'width', 'height', 'magnification',\n",
      "       'er_status', 'pr_status', 'her2_status', 'grade', 'tumor_type',\n",
      "       'ki_67_status', 'onco_ki_67', 'onco_score_11', 'onco_score_18',\n",
      "       'onco_score_26', 'onco_score_31', 'onco_score_all', 'fold'],\n",
      "      dtype='object')\n"
     ]
    }
   ],
   "source": [
    "print(f\"current meta keys are: {current_meta.keys()}\")"
   ]
  },
  {
   "cell_type": "code",
   "execution_count": null,
   "metadata": {},
   "outputs": [
    {
     "name": "stdout",
     "output_type": "stream",
     "text": [
      "patient data keys are: Index(['blindid', 'rxarm', 'InAnalysis', 'osind', 'inel', 'StratTumorSize',\n",
      "       'StratMeno', 'StratPlannedChemo', 'StratPlannedRT', 'RSgp', 'Strat',\n",
      "       'RS', 'age', 'meno', 'race', 'ethnicity', 'TumorSize', 'TumorSizeGp',\n",
      "       'Grade', 'NucGrade', 'ERStatus', 'PRStatus', 'PrimSurg', 'RecChemo',\n",
      "       'ChemRegGp', 'ChemReg', 'TypeEndocrine', 'ttfET', 'ttlET', 'durET',\n",
      "       'endET', 'dfs', 'dfsind', 'drfi', 'drfiind', 'rfi', 'rfiind',\n",
      "       'survtime', 'survstat', 'WithdrawConsent', 'LostFU', 'typefdfs',\n",
      "       'typefrec', 'cause'],\n",
      "      dtype='object')\n",
      "patient slide connection keys are: Index(['Full File Name', 'File ID', 'Deidentified ID', 'EAS Slide ID'], dtype='object')\n",
      "slide data keys are: Index(['Unnamed: 0.1', 'Unnamed: 0', 'patient barcode', 'id', 'file', 'DX',\n",
      "       'MPP', 'Width', 'Height', 'Objective Power', 'Scan Date', 'ER status',\n",
      "       'PR status', 'Her2 status', 'test fold idx',\n",
      "       'Manipulated Objective Power'],\n",
      "      dtype='object')\n",
      "deleted_slides keys are: Index(['Unnamed: 0', 'slide', 'reason', 'comments'], dtype='object')\n"
     ]
    }
   ],
   "source": [
    "print(f\"patient data keys are: {patient_data.keys()}\") \n",
    "# blindid should be associated with connection. \n",
    "# should be renamed to patient_barcode.\n",
    "# All else should be kept.\n",
    "print(f\"patient slide connection keys are: {patient_slide_connection.keys()}\")\n",
    "# Full File Name and Deidentified ID should be associated with connection.\n",
    "# Full File Name => file\n",
    "# Deidentified => patient_barcode\n",
    "# All others need to be dropped.\n",
    "print(f\"slide data keys are: {slide_data.keys()}\")\n",
    "# file should be used for connection.\n",
    "# Width * Height => Total tiles.\n",
    "# use _add_tiles_count for dataset tiles_count and legitimate tiles\n",
    "# randomize 5 folds\n",
    "# all columns aside from id, file, DX, Objective Power, fold should be dropped.\n",
    "print(f\"deleted_slides keys are: {deleted_slides.keys()}\")"
   ]
  },
  {
   "cell_type": "code",
   "execution_count": null,
   "metadata": {},
   "outputs": [],
   "source": [
    "relevant_features = [\"blindid\", \"osind\", \"inel\", \"StratMeno\", \"StratPlannedRT\", \"rxarm\", \\\n",
    "         \"RS\", \"age\", \"race\", \"ethnicity\", \"TumorSize\", \"Grade\", \"NucGrade\", \"ERStatus\", \\\n",
    "         \"PRStatus\", \"PrimSurg\", \"ChemRegGp\", \"TypeEndocrine\", \"ttfET\", \"InAnalysis\",\\\n",
    "         \"dfs\", \"dfsind\", \"drfi\", \"drfiind\", \"rfi\", \"rfiind\", \"survtime\", \"survstat\",\\\n",
    "         \"WithdrawConsent\", \"LostFU\",  \"typefdfs\", \"typefrec\", \"cause\"]\n",
    "patient_data = patient_data[relevant_features]\n",
    "patient_data.rename(columns={'blindid': 'patient_barcode', \"ERStatus\": \"er_status\", \"PRStatus\": \"pr_status\"}, inplace=True)\n",
    "value_change_dict = {\"StratPlannedRT\":\n",
    "                        {1: \"Whole Breast, no boost\", 2: \"Whole breast with boost\", 3: \"partial breast\", 4: \"none planned\"},\n",
    "                    \"age\":\n",
    "                        {\">=90\": 90},\n",
    "                    \"race\":\n",
    "                        {1: \"White\", 3: \"Black\", 4: \"Asian\", 5: \"Pacific Islander\", 6: \"Native American\", 98: \"Multirace\", 99: \"Not Reported\"},\n",
    "                    \"ethnicity\":\n",
    "                        {1: \"Hispanic\", 2: \"Not Hispanic\", 99: \"Not Reported\"},\n",
    "                    \"pr_status\":\n",
    "                        {\"Pos\": 1, \"Neg\": 0},\n",
    "                    \"er_status\":\n",
    "                        {\"Pos\": 1, \"Neg\": 0},\n",
    "                    'PrimSurg':\n",
    "                        {'Mx': 1, 'Tx':0},\n",
    "                    \"cause\":\n",
    "                        {1: \"Protocol treatment\", 2: \"Breast cancer\", 3: \"Cardiovascular disease\", 4: \"Other chronic disease\", 5: \"Other cancer\", 6: \"Other\", 99: pd.NA},\n",
    "                    \"typefrec\":\n",
    "                        {1: \"ipsilateral breast recurrence\", 2: \"recurrence at local-regional site\", 3: \"recurrence at distant site\"},\n",
    "                    \"typefdfs\":\n",
    "                        {1: \"ipsilateral breast recurrence\", 2: \"recurrence at local-regional site\", 3: \"recurrence at distant site\", \n",
    "                         4: \"new cancer of the opposite breast\", 5: \"new primary cancer at other than breast or non-melanoma skin cancer\", \n",
    "                         6: \"death without another event reported\"},\n",
    "                    \"ChemRegGp\": \n",
    "                        {'1CMF': 'CMF', '2Anthracycline w/o Taxane': 'Anthracycline w/o Taxane', '3Anthracycline and Taxane': 'Anthracycline and Taxane', '4TC and variations': 'TC and variations', 'Other or Not Specified': pd.NA,  '6None': 'None'},\n",
    "                    \"InAnalysis\":\n",
    "                        {\"TRUE\": 1, \"FALSE\": 0}\n",
    "                    \n",
    "}\n",
    "patient_data.replace(value_change_dict, inplace=True)\n"
   ]
  },
  {
   "cell_type": "code",
   "execution_count": null,
   "metadata": {},
   "outputs": [
    {
     "data": {
      "text/plain": [
       "ChemRegGp             0\n",
       "Grade               289\n",
       "InAnalysis            0\n",
       "NucGrade           1977\n",
       "PrimSurg              0\n",
       "RS                    0\n",
       "StratMeno             0\n",
       "StratPlannedRT        0\n",
       "TumorSize             3\n",
       "TypeEndocrine         0\n",
       "age                   0\n",
       "er_status             0\n",
       "ethnicity             0\n",
       "inel                  0\n",
       "osind                 0\n",
       "patient_barcode       0\n",
       "pr_status           204\n",
       "race                  0\n",
       "rxarm                 0\n",
       "ttfET               175\n",
       "dtype: int64"
      ]
     },
     "execution_count": 7,
     "metadata": {},
     "output_type": "execute_result"
    }
   ],
   "source": [
    "# Assuming df is your DataFrame\n",
    "excluded_columns = [\"dfs\", \"dfsind\", \"drfi\", \"drfiind\", \"rfi\", \"rfiind\", \"survtime\", \"survstat\", \"WithdrawConsent\", \"LostFU\",  \"typefdfs\", \"typefrec\", \"cause\"]\n",
    "subset_df = patient_data[patient_data.columns.difference(excluded_columns)].loc[patient_data['InAnalysis'] == 1]\n",
    "num_rows_with_na = subset_df.isnull().sum()\n",
    "num_rows_with_na"
   ]
  },
  {
   "cell_type": "code",
   "execution_count": null,
   "metadata": {},
   "outputs": [],
   "source": [
    "# ohe_keys = [*value_change_dict.keys(), \"meno\", \"Grade\", \"NucGrade\", \"ERStatus\", \"PRStatus\", \"PrimSurg\", \"ChemRegGp\", \"TypeEndocrine\"]\n",
    "# ohe_keys.remove(\"age\")\n",
    "# dummies = pd.get_dummies(patient_data[ohe_keys])\n",
    "# dummies = dummies.drop([\"race_Race Not reported\", \"ethnicity_Eth. Not Reported\", \"StratPlannedRT_none planned\", \"StratPlannedChemo_not applicable\"], axis=1, errors='ignore')\n",
    "# df = pd.concat([patient_data, dummies], axis=1).drop(ohe_keys, axis=1)\n",
    "# df = df.astype(\"float64\")\n",
    "# df.iloc[:,1:-1] = df.iloc[:,1:-1].apply(lambda x: (x-x.mean())/ x.std(), axis=0)"
   ]
  },
  {
   "cell_type": "code",
   "execution_count": null,
   "metadata": {},
   "outputs": [],
   "source": [
    "patient_slide_connection.rename(columns={'Full File Name': 'file', \"Deidentified ID\": \"patient_barcode\"}, inplace=True)\n",
    "patient_slide_connection = patient_slide_connection[['file', \"patient_barcode\"]]\n",
    "patient_slide_connection[\"patient_barcode\"] = patient_slide_connection[\"patient_barcode\"].str.split(\"-\").str[0].fillna(patient_slide_connection[\"patient_barcode\"]).astype('int64')"
   ]
  },
  {
   "cell_type": "code",
   "execution_count": null,
   "metadata": {},
   "outputs": [],
   "source": [
    "def _get_tiles_count(row: pd.Series) -> int:\n",
    "    dataset_path = \"/data/unsynced_data/Breast/TAILORx/Deid/TAILORx_1\"\n",
    "    image_file_name_stem = Path(row[\"file\"]).stem\n",
    "    if utils.check_segmentation_data_exists(dataset_path=dataset_path, desired_magnification=10, image_file_name_stem=image_file_name_stem, tile_size=256) is False:\n",
    "        return 0\n",
    "    else:\n",
    "        segmentation_data = utils.load_segmentation_data(dataset_path=dataset_path, desired_magnification=10, image_file_name_stem=image_file_name_stem, tile_size=256)\n",
    "        return segmentation_data.shape[0]\n",
    "        \n",
    "def _add_tiles_count(df: pd.DataFrame) -> pd.DataFrame:\n",
    "    df[\"tiles_count\"] = df.apply(\n",
    "        lambda row: _get_tiles_count(row=row), axis=1\n",
    "    )\n",
    "    df[\"legitimate_tiles\"] = df[\"tiles_count\"]\n",
    "    return df\n"
   ]
  },
  {
   "cell_type": "code",
   "execution_count": null,
   "metadata": {},
   "outputs": [],
   "source": [
    "slide_data = _add_tiles_count(slide_data)"
   ]
  },
  {
   "cell_type": "code",
   "execution_count": null,
   "metadata": {},
   "outputs": [],
   "source": [
    "slide_data = slide_data[~slide_data[\"patient barcode\"].isin(deleted_slides[\"slide\"])]"
   ]
  },
  {
   "cell_type": "code",
   "execution_count": null,
   "metadata": {},
   "outputs": [
    {
     "data": {
      "text/html": [
       "<div>\n",
       "<style scoped>\n",
       "    .dataframe tbody tr th:only-of-type {\n",
       "        vertical-align: middle;\n",
       "    }\n",
       "\n",
       "    .dataframe tbody tr th {\n",
       "        vertical-align: top;\n",
       "    }\n",
       "\n",
       "    .dataframe thead th {\n",
       "        text-align: right;\n",
       "    }\n",
       "</style>\n",
       "<table border=\"1\" class=\"dataframe\">\n",
       "  <thead>\n",
       "    <tr style=\"text-align: right;\">\n",
       "      <th></th>\n",
       "      <th>legitimate_tiles</th>\n",
       "      <th>tiles_count</th>\n",
       "      <th>magnification</th>\n",
       "      <th>height</th>\n",
       "      <th>width</th>\n",
       "      <th>mpp</th>\n",
       "      <th>file</th>\n",
       "      <th>id</th>\n",
       "    </tr>\n",
       "  </thead>\n",
       "  <tbody>\n",
       "    <tr>\n",
       "      <th>0</th>\n",
       "      <td>1613</td>\n",
       "      <td>1613</td>\n",
       "      <td>20</td>\n",
       "      <td>45961</td>\n",
       "      <td>49800</td>\n",
       "      <td>0.5026</td>\n",
       "      <td>PACCT1_6753561-1_AperioUUID11795.svs</td>\n",
       "      <td>TAILORx_1</td>\n",
       "    </tr>\n",
       "    <tr>\n",
       "      <th>1</th>\n",
       "      <td>2466</td>\n",
       "      <td>2466</td>\n",
       "      <td>20</td>\n",
       "      <td>28247</td>\n",
       "      <td>47808</td>\n",
       "      <td>0.5026</td>\n",
       "      <td>PACCT1_1167281_AperioUUID16657.svs</td>\n",
       "      <td>TAILORx_1</td>\n",
       "    </tr>\n",
       "    <tr>\n",
       "      <th>2</th>\n",
       "      <td>2292</td>\n",
       "      <td>2292</td>\n",
       "      <td>20</td>\n",
       "      <td>47823</td>\n",
       "      <td>75696</td>\n",
       "      <td>0.5026</td>\n",
       "      <td>PACCT1_3019140_AperioUUID21278.svs</td>\n",
       "      <td>TAILORx_1</td>\n",
       "    </tr>\n",
       "    <tr>\n",
       "      <th>3</th>\n",
       "      <td>2512</td>\n",
       "      <td>2512</td>\n",
       "      <td>20</td>\n",
       "      <td>46531</td>\n",
       "      <td>45816</td>\n",
       "      <td>0.5026</td>\n",
       "      <td>PACCT1_1340169-1_AperioUUID12948.svs</td>\n",
       "      <td>TAILORx_1</td>\n",
       "    </tr>\n",
       "    <tr>\n",
       "      <th>4</th>\n",
       "      <td>2419</td>\n",
       "      <td>2419</td>\n",
       "      <td>20</td>\n",
       "      <td>40025</td>\n",
       "      <td>61752</td>\n",
       "      <td>0.5026</td>\n",
       "      <td>PACCT1_1274621_AperioUUID26572.svs</td>\n",
       "      <td>TAILORx_1</td>\n",
       "    </tr>\n",
       "    <tr>\n",
       "      <th>...</th>\n",
       "      <td>...</td>\n",
       "      <td>...</td>\n",
       "      <td>...</td>\n",
       "      <td>...</td>\n",
       "      <td>...</td>\n",
       "      <td>...</td>\n",
       "      <td>...</td>\n",
       "      <td>...</td>\n",
       "    </tr>\n",
       "    <tr>\n",
       "      <th>9613</th>\n",
       "      <td>2414</td>\n",
       "      <td>2414</td>\n",
       "      <td>20</td>\n",
       "      <td>46772</td>\n",
       "      <td>55776</td>\n",
       "      <td>0.5026</td>\n",
       "      <td>PACCT1_4855283_AperioUUID17094.svs</td>\n",
       "      <td>TAILORx_1</td>\n",
       "    </tr>\n",
       "    <tr>\n",
       "      <th>9614</th>\n",
       "      <td>3052</td>\n",
       "      <td>3052</td>\n",
       "      <td>20</td>\n",
       "      <td>49938</td>\n",
       "      <td>65736</td>\n",
       "      <td>0.5026</td>\n",
       "      <td>PACCT1_3942733_AperioUUID26037.svs</td>\n",
       "      <td>TAILORx_1</td>\n",
       "    </tr>\n",
       "    <tr>\n",
       "      <th>9615</th>\n",
       "      <td>1138</td>\n",
       "      <td>1138</td>\n",
       "      <td>20</td>\n",
       "      <td>48883</td>\n",
       "      <td>59760</td>\n",
       "      <td>0.5026</td>\n",
       "      <td>PACCT1_3465713_AperioUUID24546.svs</td>\n",
       "      <td>TAILORx_1</td>\n",
       "    </tr>\n",
       "    <tr>\n",
       "      <th>9616</th>\n",
       "      <td>2628</td>\n",
       "      <td>2628</td>\n",
       "      <td>20</td>\n",
       "      <td>48232</td>\n",
       "      <td>63744</td>\n",
       "      <td>0.5026</td>\n",
       "      <td>PACCT1_2530740_AperioUUID18060.svs</td>\n",
       "      <td>TAILORx_1</td>\n",
       "    </tr>\n",
       "    <tr>\n",
       "      <th>9617</th>\n",
       "      <td>2035</td>\n",
       "      <td>2035</td>\n",
       "      <td>20</td>\n",
       "      <td>41003</td>\n",
       "      <td>53784</td>\n",
       "      <td>0.5026</td>\n",
       "      <td>PACCT1_7415014-2_AperioUUID11537.svs</td>\n",
       "      <td>TAILORx_1</td>\n",
       "    </tr>\n",
       "  </tbody>\n",
       "</table>\n",
       "<p>9557 rows × 8 columns</p>\n",
       "</div>"
      ],
      "text/plain": [
       "      legitimate_tiles  tiles_count  magnification  height  width     mpp  \\\n",
       "0                 1613         1613             20   45961  49800  0.5026   \n",
       "1                 2466         2466             20   28247  47808  0.5026   \n",
       "2                 2292         2292             20   47823  75696  0.5026   \n",
       "3                 2512         2512             20   46531  45816  0.5026   \n",
       "4                 2419         2419             20   40025  61752  0.5026   \n",
       "...                ...          ...            ...     ...    ...     ...   \n",
       "9613              2414         2414             20   46772  55776  0.5026   \n",
       "9614              3052         3052             20   49938  65736  0.5026   \n",
       "9615              1138         1138             20   48883  59760  0.5026   \n",
       "9616              2628         2628             20   48232  63744  0.5026   \n",
       "9617              2035         2035             20   41003  53784  0.5026   \n",
       "\n",
       "                                      file         id  \n",
       "0     PACCT1_6753561-1_AperioUUID11795.svs  TAILORx_1  \n",
       "1       PACCT1_1167281_AperioUUID16657.svs  TAILORx_1  \n",
       "2       PACCT1_3019140_AperioUUID21278.svs  TAILORx_1  \n",
       "3     PACCT1_1340169-1_AperioUUID12948.svs  TAILORx_1  \n",
       "4       PACCT1_1274621_AperioUUID26572.svs  TAILORx_1  \n",
       "...                                    ...        ...  \n",
       "9613    PACCT1_4855283_AperioUUID17094.svs  TAILORx_1  \n",
       "9614    PACCT1_3942733_AperioUUID26037.svs  TAILORx_1  \n",
       "9615    PACCT1_3465713_AperioUUID24546.svs  TAILORx_1  \n",
       "9616    PACCT1_2530740_AperioUUID18060.svs  TAILORx_1  \n",
       "9617  PACCT1_7415014-2_AperioUUID11537.svs  TAILORx_1  \n",
       "\n",
       "[9557 rows x 8 columns]"
      ]
     },
     "execution_count": 13,
     "metadata": {},
     "output_type": "execute_result"
    }
   ],
   "source": [
    "slide_data.rename(columns={'Manipulated Objective Power': 'magnification', \"Height\": \"height\", \"Width\": \"width\", \"MPP\": \"mpp\", \"patient barcode\": \"patient_barcode\"}, inplace=True)\n",
    "\n",
    "slide_data = slide_data[[\"legitimate_tiles\", \"tiles_count\", \"magnification\", \"height\", \"width\", \"mpp\",\"file\",\"id\"]]\n",
    "slide_data"
   ]
  },
  {
   "cell_type": "code",
   "execution_count": null,
   "metadata": {},
   "outputs": [
    {
     "data": {
      "text/html": [
       "<div>\n",
       "<style scoped>\n",
       "    .dataframe tbody tr th:only-of-type {\n",
       "        vertical-align: middle;\n",
       "    }\n",
       "\n",
       "    .dataframe tbody tr th {\n",
       "        vertical-align: top;\n",
       "    }\n",
       "\n",
       "    .dataframe thead th {\n",
       "        text-align: right;\n",
       "    }\n",
       "</style>\n",
       "<table border=\"1\" class=\"dataframe\">\n",
       "  <thead>\n",
       "    <tr style=\"text-align: right;\">\n",
       "      <th></th>\n",
       "      <th>legitimate_tiles</th>\n",
       "      <th>tiles_count</th>\n",
       "      <th>magnification</th>\n",
       "      <th>height</th>\n",
       "      <th>width</th>\n",
       "      <th>mpp</th>\n",
       "      <th>file</th>\n",
       "      <th>id</th>\n",
       "      <th>patient_barcode</th>\n",
       "      <th>osind</th>\n",
       "      <th>...</th>\n",
       "      <th>drfiind</th>\n",
       "      <th>rfi</th>\n",
       "      <th>rfiind</th>\n",
       "      <th>survtime</th>\n",
       "      <th>survstat</th>\n",
       "      <th>WithdrawConsent</th>\n",
       "      <th>LostFU</th>\n",
       "      <th>typefdfs</th>\n",
       "      <th>typefrec</th>\n",
       "      <th>cause</th>\n",
       "    </tr>\n",
       "  </thead>\n",
       "  <tbody>\n",
       "    <tr>\n",
       "      <th>0</th>\n",
       "      <td>1613</td>\n",
       "      <td>1613</td>\n",
       "      <td>20</td>\n",
       "      <td>45961</td>\n",
       "      <td>49800</td>\n",
       "      <td>0.5026</td>\n",
       "      <td>PACCT1_6753561-1_AperioUUID11795.svs</td>\n",
       "      <td>TAILORx_1</td>\n",
       "      <td>6753561</td>\n",
       "      <td>1</td>\n",
       "      <td>...</td>\n",
       "      <td>0</td>\n",
       "      <td>3249</td>\n",
       "      <td>0</td>\n",
       "      <td>3249</td>\n",
       "      <td>0</td>\n",
       "      <td>0</td>\n",
       "      <td>0</td>\n",
       "      <td>NaN</td>\n",
       "      <td>NaN</td>\n",
       "      <td>NaN</td>\n",
       "    </tr>\n",
       "    <tr>\n",
       "      <th>1</th>\n",
       "      <td>1080</td>\n",
       "      <td>1080</td>\n",
       "      <td>20</td>\n",
       "      <td>39541</td>\n",
       "      <td>51792</td>\n",
       "      <td>0.5026</td>\n",
       "      <td>PACCT1_6753561-2_AperioUUID11797.svs</td>\n",
       "      <td>TAILORx_1</td>\n",
       "      <td>6753561</td>\n",
       "      <td>1</td>\n",
       "      <td>...</td>\n",
       "      <td>0</td>\n",
       "      <td>3249</td>\n",
       "      <td>0</td>\n",
       "      <td>3249</td>\n",
       "      <td>0</td>\n",
       "      <td>0</td>\n",
       "      <td>0</td>\n",
       "      <td>NaN</td>\n",
       "      <td>NaN</td>\n",
       "      <td>NaN</td>\n",
       "    </tr>\n",
       "    <tr>\n",
       "      <th>2</th>\n",
       "      <td>2795</td>\n",
       "      <td>2795</td>\n",
       "      <td>20</td>\n",
       "      <td>45634</td>\n",
       "      <td>55776</td>\n",
       "      <td>0.5026</td>\n",
       "      <td>PACCT1_6753561-3_AperioUUID22222.svs</td>\n",
       "      <td>TAILORx_1</td>\n",
       "      <td>6753561</td>\n",
       "      <td>1</td>\n",
       "      <td>...</td>\n",
       "      <td>0</td>\n",
       "      <td>3249</td>\n",
       "      <td>0</td>\n",
       "      <td>3249</td>\n",
       "      <td>0</td>\n",
       "      <td>0</td>\n",
       "      <td>0</td>\n",
       "      <td>NaN</td>\n",
       "      <td>NaN</td>\n",
       "      <td>NaN</td>\n",
       "    </tr>\n",
       "    <tr>\n",
       "      <th>3</th>\n",
       "      <td>2466</td>\n",
       "      <td>2466</td>\n",
       "      <td>20</td>\n",
       "      <td>28247</td>\n",
       "      <td>47808</td>\n",
       "      <td>0.5026</td>\n",
       "      <td>PACCT1_1167281_AperioUUID16657.svs</td>\n",
       "      <td>TAILORx_1</td>\n",
       "      <td>1167281</td>\n",
       "      <td>1</td>\n",
       "      <td>...</td>\n",
       "      <td>0</td>\n",
       "      <td>3318</td>\n",
       "      <td>0</td>\n",
       "      <td>3326</td>\n",
       "      <td>0</td>\n",
       "      <td>0</td>\n",
       "      <td>0</td>\n",
       "      <td>NaN</td>\n",
       "      <td>NaN</td>\n",
       "      <td>NaN</td>\n",
       "    </tr>\n",
       "    <tr>\n",
       "      <th>4</th>\n",
       "      <td>2292</td>\n",
       "      <td>2292</td>\n",
       "      <td>20</td>\n",
       "      <td>47823</td>\n",
       "      <td>75696</td>\n",
       "      <td>0.5026</td>\n",
       "      <td>PACCT1_3019140_AperioUUID21278.svs</td>\n",
       "      <td>TAILORx_1</td>\n",
       "      <td>3019140</td>\n",
       "      <td>1</td>\n",
       "      <td>...</td>\n",
       "      <td>0</td>\n",
       "      <td>3289</td>\n",
       "      <td>0</td>\n",
       "      <td>3289</td>\n",
       "      <td>0</td>\n",
       "      <td>0</td>\n",
       "      <td>0</td>\n",
       "      <td>NaN</td>\n",
       "      <td>NaN</td>\n",
       "      <td>NaN</td>\n",
       "    </tr>\n",
       "    <tr>\n",
       "      <th>...</th>\n",
       "      <td>...</td>\n",
       "      <td>...</td>\n",
       "      <td>...</td>\n",
       "      <td>...</td>\n",
       "      <td>...</td>\n",
       "      <td>...</td>\n",
       "      <td>...</td>\n",
       "      <td>...</td>\n",
       "      <td>...</td>\n",
       "      <td>...</td>\n",
       "      <td>...</td>\n",
       "      <td>...</td>\n",
       "      <td>...</td>\n",
       "      <td>...</td>\n",
       "      <td>...</td>\n",
       "      <td>...</td>\n",
       "      <td>...</td>\n",
       "      <td>...</td>\n",
       "      <td>...</td>\n",
       "      <td>...</td>\n",
       "      <td>...</td>\n",
       "    </tr>\n",
       "    <tr>\n",
       "      <th>9552</th>\n",
       "      <td>2181</td>\n",
       "      <td>2181</td>\n",
       "      <td>20</td>\n",
       "      <td>35396</td>\n",
       "      <td>51792</td>\n",
       "      <td>0.5026</td>\n",
       "      <td>PACCT1_5781358_AperioUUID17886.svs</td>\n",
       "      <td>TAILORx_1</td>\n",
       "      <td>5781358</td>\n",
       "      <td>1</td>\n",
       "      <td>...</td>\n",
       "      <td>0</td>\n",
       "      <td>3277</td>\n",
       "      <td>0</td>\n",
       "      <td>3327</td>\n",
       "      <td>0</td>\n",
       "      <td>0</td>\n",
       "      <td>0</td>\n",
       "      <td>NaN</td>\n",
       "      <td>NaN</td>\n",
       "      <td>NaN</td>\n",
       "    </tr>\n",
       "    <tr>\n",
       "      <th>9553</th>\n",
       "      <td>2414</td>\n",
       "      <td>2414</td>\n",
       "      <td>20</td>\n",
       "      <td>46772</td>\n",
       "      <td>55776</td>\n",
       "      <td>0.5026</td>\n",
       "      <td>PACCT1_4855283_AperioUUID17094.svs</td>\n",
       "      <td>TAILORx_1</td>\n",
       "      <td>4855283</td>\n",
       "      <td>1</td>\n",
       "      <td>...</td>\n",
       "      <td>0</td>\n",
       "      <td>2510</td>\n",
       "      <td>0</td>\n",
       "      <td>2527</td>\n",
       "      <td>1</td>\n",
       "      <td>0</td>\n",
       "      <td>0</td>\n",
       "      <td>new primary cancer at other than breast or non...</td>\n",
       "      <td>NaN</td>\n",
       "      <td>Other cancer</td>\n",
       "    </tr>\n",
       "    <tr>\n",
       "      <th>9554</th>\n",
       "      <td>3052</td>\n",
       "      <td>3052</td>\n",
       "      <td>20</td>\n",
       "      <td>49938</td>\n",
       "      <td>65736</td>\n",
       "      <td>0.5026</td>\n",
       "      <td>PACCT1_3942733_AperioUUID26037.svs</td>\n",
       "      <td>TAILORx_1</td>\n",
       "      <td>3942733</td>\n",
       "      <td>1</td>\n",
       "      <td>...</td>\n",
       "      <td>0</td>\n",
       "      <td>2520</td>\n",
       "      <td>0</td>\n",
       "      <td>2551</td>\n",
       "      <td>0</td>\n",
       "      <td>0</td>\n",
       "      <td>0</td>\n",
       "      <td>NaN</td>\n",
       "      <td>NaN</td>\n",
       "      <td>NaN</td>\n",
       "    </tr>\n",
       "    <tr>\n",
       "      <th>9555</th>\n",
       "      <td>1138</td>\n",
       "      <td>1138</td>\n",
       "      <td>20</td>\n",
       "      <td>48883</td>\n",
       "      <td>59760</td>\n",
       "      <td>0.5026</td>\n",
       "      <td>PACCT1_3465713_AperioUUID24546.svs</td>\n",
       "      <td>TAILORx_1</td>\n",
       "      <td>3465713</td>\n",
       "      <td>1</td>\n",
       "      <td>...</td>\n",
       "      <td>0</td>\n",
       "      <td>490</td>\n",
       "      <td>0</td>\n",
       "      <td>1462</td>\n",
       "      <td>0</td>\n",
       "      <td>1</td>\n",
       "      <td>0</td>\n",
       "      <td>NaN</td>\n",
       "      <td>NaN</td>\n",
       "      <td>NaN</td>\n",
       "    </tr>\n",
       "    <tr>\n",
       "      <th>9556</th>\n",
       "      <td>2628</td>\n",
       "      <td>2628</td>\n",
       "      <td>20</td>\n",
       "      <td>48232</td>\n",
       "      <td>63744</td>\n",
       "      <td>0.5026</td>\n",
       "      <td>PACCT1_2530740_AperioUUID18060.svs</td>\n",
       "      <td>TAILORx_1</td>\n",
       "      <td>2530740</td>\n",
       "      <td>1</td>\n",
       "      <td>...</td>\n",
       "      <td>0</td>\n",
       "      <td>1456</td>\n",
       "      <td>0</td>\n",
       "      <td>1456</td>\n",
       "      <td>0</td>\n",
       "      <td>0</td>\n",
       "      <td>0</td>\n",
       "      <td>NaN</td>\n",
       "      <td>NaN</td>\n",
       "      <td>NaN</td>\n",
       "    </tr>\n",
       "  </tbody>\n",
       "</table>\n",
       "<p>9557 rows × 41 columns</p>\n",
       "</div>"
      ],
      "text/plain": [
       "      legitimate_tiles  tiles_count  magnification  height  width     mpp  \\\n",
       "0                 1613         1613             20   45961  49800  0.5026   \n",
       "1                 1080         1080             20   39541  51792  0.5026   \n",
       "2                 2795         2795             20   45634  55776  0.5026   \n",
       "3                 2466         2466             20   28247  47808  0.5026   \n",
       "4                 2292         2292             20   47823  75696  0.5026   \n",
       "...                ...          ...            ...     ...    ...     ...   \n",
       "9552              2181         2181             20   35396  51792  0.5026   \n",
       "9553              2414         2414             20   46772  55776  0.5026   \n",
       "9554              3052         3052             20   49938  65736  0.5026   \n",
       "9555              1138         1138             20   48883  59760  0.5026   \n",
       "9556              2628         2628             20   48232  63744  0.5026   \n",
       "\n",
       "                                      file         id  patient_barcode  osind  \\\n",
       "0     PACCT1_6753561-1_AperioUUID11795.svs  TAILORx_1          6753561      1   \n",
       "1     PACCT1_6753561-2_AperioUUID11797.svs  TAILORx_1          6753561      1   \n",
       "2     PACCT1_6753561-3_AperioUUID22222.svs  TAILORx_1          6753561      1   \n",
       "3       PACCT1_1167281_AperioUUID16657.svs  TAILORx_1          1167281      1   \n",
       "4       PACCT1_3019140_AperioUUID21278.svs  TAILORx_1          3019140      1   \n",
       "...                                    ...        ...              ...    ...   \n",
       "9552    PACCT1_5781358_AperioUUID17886.svs  TAILORx_1          5781358      1   \n",
       "9553    PACCT1_4855283_AperioUUID17094.svs  TAILORx_1          4855283      1   \n",
       "9554    PACCT1_3942733_AperioUUID26037.svs  TAILORx_1          3942733      1   \n",
       "9555    PACCT1_3465713_AperioUUID24546.svs  TAILORx_1          3465713      1   \n",
       "9556    PACCT1_2530740_AperioUUID18060.svs  TAILORx_1          2530740      1   \n",
       "\n",
       "      ...  drfiind   rfi rfiind survtime  survstat WithdrawConsent LostFU  \\\n",
       "0     ...        0  3249      0     3249         0               0      0   \n",
       "1     ...        0  3249      0     3249         0               0      0   \n",
       "2     ...        0  3249      0     3249         0               0      0   \n",
       "3     ...        0  3318      0     3326         0               0      0   \n",
       "4     ...        0  3289      0     3289         0               0      0   \n",
       "...   ...      ...   ...    ...      ...       ...             ...    ...   \n",
       "9552  ...        0  3277      0     3327         0               0      0   \n",
       "9553  ...        0  2510      0     2527         1               0      0   \n",
       "9554  ...        0  2520      0     2551         0               0      0   \n",
       "9555  ...        0   490      0     1462         0               1      0   \n",
       "9556  ...        0  1456      0     1456         0               0      0   \n",
       "\n",
       "                                               typefdfs  typefrec  \\\n",
       "0                                                   NaN       NaN   \n",
       "1                                                   NaN       NaN   \n",
       "2                                                   NaN       NaN   \n",
       "3                                                   NaN       NaN   \n",
       "4                                                   NaN       NaN   \n",
       "...                                                 ...       ...   \n",
       "9552                                                NaN       NaN   \n",
       "9553  new primary cancer at other than breast or non...       NaN   \n",
       "9554                                                NaN       NaN   \n",
       "9555                                                NaN       NaN   \n",
       "9556                                                NaN       NaN   \n",
       "\n",
       "             cause  \n",
       "0              NaN  \n",
       "1              NaN  \n",
       "2              NaN  \n",
       "3              NaN  \n",
       "4              NaN  \n",
       "...            ...  \n",
       "9552           NaN  \n",
       "9553  Other cancer  \n",
       "9554           NaN  \n",
       "9555           NaN  \n",
       "9556           NaN  \n",
       "\n",
       "[9557 rows x 41 columns]"
      ]
     },
     "execution_count": 14,
     "metadata": {},
     "output_type": "execute_result"
    }
   ],
   "source": [
    "merged = pd.merge(pd.merge(slide_data, patient_slide_connection, on=\"file\"), patient_data, on=\"patient_barcode\")\n",
    "merged"
   ]
  },
  {
   "cell_type": "code",
   "execution_count": null,
   "metadata": {},
   "outputs": [
    {
     "name": "stdout",
     "output_type": "stream",
     "text": [
      "file              object\n",
      "id                object\n",
      "StratPlannedRT    object\n",
      "rxarm             object\n",
      "age               object\n",
      "race              object\n",
      "ethnicity         object\n",
      "Grade             object\n",
      "NucGrade          object\n",
      "ChemRegGp         object\n",
      "TypeEndocrine     object\n",
      "typefdfs          object\n",
      "typefrec          object\n",
      "cause             object\n",
      "dtype: object\n",
      "['1.0' 'nan' '0.0']\n",
      "file              object\n",
      "id                object\n",
      "StratPlannedRT    object\n",
      "rxarm             object\n",
      "age               object\n",
      "race              object\n",
      "ethnicity         object\n",
      "Grade             object\n",
      "NucGrade          object\n",
      "er_status         object\n",
      "pr_status         object\n",
      "ChemRegGp         object\n",
      "TypeEndocrine     object\n",
      "typefdfs          object\n",
      "typefrec          object\n",
      "cause             object\n",
      "dtype: object\n"
     ]
    }
   ],
   "source": [
    "import re\n",
    "\n",
    "def extract_number(s):\n",
    "    match = re.search(r'PACCT1_(\\d+)', s)\n",
    "    if match:\n",
    "        return int(match.group(1)) # return the first captured group as int\n",
    "    else:\n",
    "        raise Exception('String does not match the expected format')\n",
    "\n",
    "merged['patient_barcode'] = merged['file'].apply(extract_number).astype('int32')\n",
    "unique_numbers = merged['patient_barcode'].unique()\n",
    "\n",
    "# Create a dictionary that maps each extracted number to a random number between 1 and 5\n",
    "number_to_random_mapping = {number: np.random.randint(1, 5) for number in unique_numbers}\n",
    "merged['fold'] = merged['patient_barcode'].map(number_to_random_mapping)\n",
    "\n",
    "merged['mpp'] = 10.0 / merged['magnification']\n",
    "# print(merged.dtypes)\n",
    "print(merged.dtypes[merged.dtypes == object])\n",
    "merged.er_status = merged.er_status.astype('str')\n",
    "print(merged.er_status.unique())\n",
    "merged.pr_status = merged.pr_status.astype('str')\n",
    "merged.file = merged.file.astype('str')\n",
    "print(merged.dtypes[merged.dtypes == object])"
   ]
  },
  {
   "cell_type": "code",
   "execution_count": null,
   "metadata": {},
   "outputs": [
    {
     "name": "stdout",
     "output_type": "stream",
     "text": [
      "['3.0' '1.0' '2.0' 'Negative' 'Positive' nan 'Stained but IHC missing'\n",
      " 'Missing Data Data' 'Equivocal' 'Indeterminate' 'nan' '0.0']\n",
      "['3.0' '1.0' '2.0' 0 1 <NA> 'Stained but IHC missing' 'Missing Data Data'\n",
      " 'Equivocal' 'Indeterminate' '0.0']\n"
     ]
    }
   ],
   "source": [
    "concated = pd.concat([current_meta, merged])\n",
    "print(concated.er_status.unique())\n",
    "concated.loc[(concated.pr_status == 'nan') | (concated.pr_status.isna()), \"pr_status\"] = pd.NA\n",
    "concated.loc[(concated.er_status == 'nan') | (concated.er_status.isna()), \"er_status\"] = pd.NA\n",
    "concated.loc[(concated.her2_status == 'nan') | (concated.her2_status.isna()), \"her2_status\"] = pd.NA\n",
    "concated.loc[(concated.er_status == 'Positive'), \"er_status\"] = 1\n",
    "concated.loc[(concated.pr_status == 'Positive'), \"pr_status\"] = 1\n",
    "concated.loc[(concated.her2_status == 'Positive'), \"her2_status\"] = 1\n",
    "concated.loc[(concated.er_status == 'Negative'), \"er_status\"] = 0\n",
    "concated.loc[(concated.pr_status == 'Negative'), \"pr_status\"] = 0\n",
    "concated.loc[(concated.her2_status == 'Negative'), \"her2_status\"] = 0\n",
    "print(concated.er_status.unique())\n"
   ]
  },
  {
   "cell_type": "code",
   "execution_count": null,
   "metadata": {},
   "outputs": [
    {
     "name": "stdout",
     "output_type": "stream",
     "text": [
      "er label for relevant slide is []\n"
     ]
    }
   ],
   "source": [
    "HL_pd = pd.read_excel(\"Summary_data_per_slide_With_HL_noisy.xlsx\")\n",
    "print(f\"er label for relevant slide is {HL_pd.loc[HL_pd['SampleID'] == r'TCGA-BH-AB28-11A-03-TSC.1D865873-15C1-4FA4-BC39-877BB3D03B55', 'label_ER'].values}\")"
   ]
  },
  {
   "cell_type": "code",
   "execution_count": null,
   "metadata": {},
   "outputs": [
    {
     "data": {
      "text/plain": [
       "Index(['FoldID', 'DatasetName', 'BatchID', 'SlideName', 'SlideID', 'BlockID',\n",
       "       'TissueID', 'SampleID', 'PatientID', 'TumorType', 'TissueType',\n",
       "       'BirthDate', 'BreastSide', 'Gender', 'TissueDate', 'Age', 'Grade',\n",
       "       'label_ER', 'label_PR', 'label_Her2', 'label_Ki67', 'label_IsCancer',\n",
       "       'IHC_ER', 'IHC_PR', 'IHC_Her2', 'IHC_Ki67', 'label_ER_corrected',\n",
       "       'label_PR_corrected', 'IHC_ER_corrected', 'IHC_PR_corrected',\n",
       "       'PS_CAT_ensemble_ER', 'PS_CAT_foldless_ER', 'PS_CAT_CV_ER',\n",
       "       'PS_CAT_ensemble_PR', 'PS_CAT_foldless_PR', 'PS_CAT_CV_PR',\n",
       "       'PS_CAT_ensemble_Her2', 'PS_CAT_foldless_Her2', 'PS_CAT_CV_Her2',\n",
       "       'PS_CAT_ensemble_ER_or_PR', 'PS_CAT_foldless_ER_or_PR',\n",
       "       'PS_CAT_CV_ER_or_PR', 'PS_Carmel_foldless_ER', 'PS_Carmel_foldless_PR',\n",
       "       'PS_Carmel_foldless_Her2', 'PS_Carmel_ensemble_Ki67',\n",
       "       'PS_Carmel_foldless_Ki67', 'PS_Carmel_CV_Ki67', 'PS_TA_ensemble_ER',\n",
       "       'PS_TA_foldless_ER', 'PS_TA_CV_ER', 'PS_TA_ensemble_PR',\n",
       "       'PS_TA_foldless_PR', 'PS_TA_CV_PR', 'PS_TA_ensemble_Her2',\n",
       "       'PS_TA_foldless_Her2', 'PS_TA_CV_Her2',\n",
       "       'PS_Carmel_Concat_Benign_foldless_ER',\n",
       "       'PS_Carmel_Concat_Benign_foldless_PR',\n",
       "       'PS_Carmel_Concat_Benign_foldless_Her2',\n",
       "       'PS_Carmel_VS_Benign_foldless_IsCancer', 'label_HL',\n",
       "       'label_HL_noisy_ 1', 'label_HL_noisy_ 2', 'label_HL_noisy_ 3',\n",
       "       'label_HL_noisy_ 4', 'label_HL_noisy_ 5', 'label_HL_noisy_ 6',\n",
       "       'label_HL_noisy_ 7', 'label_HL_noisy_ 8', 'label_HL_noisy_ 9',\n",
       "       'label_HL_noisy_10', 'label_HL_noisy_11', 'label_HL_noisy_12',\n",
       "       'label_HL_noisy_13', 'label_HL_noisy_14', 'label_HL_noisy_15',\n",
       "       'label_HL_noisy_16', 'label_HL_noisy_17', 'label_HL_noisy_18',\n",
       "       'label_HL_noisy_19', 'label_HL_noisy_20'],\n",
       "      dtype='object')"
      ]
     },
     "execution_count": 18,
     "metadata": {},
     "output_type": "execute_result"
    }
   ],
   "source": [
    "HL_pd.columns"
   ]
  },
  {
   "cell_type": "code",
   "execution_count": null,
   "metadata": {},
   "outputs": [
    {
     "data": {
      "text/plain": [
       "10978     21-8212_1_1_b\n",
       "10979     21-8662_1_1_b\n",
       "10980     21-8210_1_1_b\n",
       "10981     21-8113_1_1_b\n",
       "10982     21-8488_1_1_b\n",
       "              ...      \n",
       "11831    21-1617_2_13_b\n",
       "11832     21-1827_1_1_b\n",
       "11833     21-1657_1_7_b\n",
       "11834     21-1835_2_7_b\n",
       "11835     21-1869_1_4_a\n",
       "Name: SlideID, Length: 858, dtype: object"
      ]
     },
     "execution_count": 19,
     "metadata": {},
     "output_type": "execute_result"
    }
   ],
   "source": [
    "HL_pd[[f\"label_HL_noisy_{i}\" for i in range(1,10)]] = HL_pd[[f\"label_HL_noisy_ {i}\" for i in range(1,10)]]\n",
    "HL_pd[[\"er_status\", \"pr_status\", \"her2_status\"]] = HL_pd[['label_ER', 'label_PR', 'label_Her2']]\n",
    "HL_pd = HL_pd[HL_pd[\"BatchID\"]!=\"Carmel11_Rescanned\"]\n",
    "HL_pd.loc[HL_pd[\"BatchID\"]==\"Carmel11\",\"SlideID\"]"
   ]
  },
  {
   "cell_type": "code",
   "execution_count": null,
   "metadata": {},
   "outputs": [],
   "source": [
    "# HL_pd = HL_pd[[\"SlideID\", \"er_status\", \"pr_status\", \"her2_status\", \"label_HL\", *[f\"label_HL_noisy_{i}\" for i in range(1,21)]]]\n",
    "HL_pd = HL_pd[[\"SlideID\", \"label_HL\", *[f\"label_HL_noisy_{i}\" for i in range(1,21)]]]"
   ]
  },
  {
   "cell_type": "code",
   "execution_count": null,
   "metadata": {},
   "outputs": [],
   "source": [
    "HL_pd = HL_pd[HL_pd[\"label_HL\"].notna()]"
   ]
  },
  {
   "cell_type": "code",
   "execution_count": null,
   "metadata": {},
   "outputs": [
    {
     "name": "stdout",
     "output_type": "stream",
     "text": [
      "er label for relevant slide is [1]\n"
     ]
    },
    {
     "name": "stderr",
     "output_type": "stream",
     "text": [
      "/tmp/ipykernel_218515/602917612.py:1: FutureWarning: The default value of regex will change from True to False in a future version.\n",
      "  concated[\"SlideID\"] = concated[\"file\"].str.replace(r'\\.[^.]*$', '')\n"
     ]
    }
   ],
   "source": [
    "concated[\"SlideID\"] = concated[\"file\"].str.replace(r'\\.[^.]*$', '')\n",
    "concated[\"SlideID\"]\n",
    "concated.columns\n",
    "print(f\"er label for relevant slide is {concated.loc[concated['file'] == r'TCGA-BH-AB28-11A-03-TSC.1D865873-15C1-4FA4-BC39-877BB3D03B55.svs', 'er_status'].values}\")"
   ]
  },
  {
   "cell_type": "code",
   "execution_count": null,
   "metadata": {},
   "outputs": [],
   "source": [
    "concated = pd.merge(concated, HL_pd, on=[\"SlideID\"], how=\"left\")"
   ]
  },
  {
   "cell_type": "code",
   "execution_count": null,
   "metadata": {},
   "outputs": [
    {
     "data": {
      "text/plain": [
       "array(['SHEBA2', 'SHEBA3', 'SHEBA4', 'SHEBA6', 'HAEMEK1', 'CARMEL1',\n",
       "       'CARMEL2', 'CARMEL3', 'CARMEL4', 'CARMEL5', 'CARMEL6', 'CARMEL7',\n",
       "       'CARMEL8', 'CARMEL9', 'CARMEL10', 'CARMEL11', 'ABCTB', 'TCGA_DX',\n",
       "       'TCGA_not_DX', 'TAILORx_1'], dtype=object)"
      ]
     },
     "execution_count": 24,
     "metadata": {},
     "output_type": "execute_result"
    }
   ],
   "source": [
    "concated.loc[(concated[\"id\"] == \"TCGA\") & (concated[\"file\"].str.contains(\"-DX\")), \"id\"] = \"TCGA_DX\"\n",
    "concated.loc[(concated[\"id\"] == \"TCGA\") & ~(concated[\"file\"].str.contains(\"-DX\")), \"id\"] = \"TCGA_not_DX\"\n",
    "concated[\"id\"].unique()"
   ]
  },
  {
   "cell_type": "code",
   "execution_count": null,
   "metadata": {},
   "outputs": [
    {
     "name": "stdout",
     "output_type": "stream",
     "text": [
      "er label for relevant slide is [1]\n"
     ]
    }
   ],
   "source": [
    "print(f\"er label for relevant slide is {concated.loc[concated['file'] == r'TCGA-BH-AB28-11A-03-TSC.1D865873-15C1-4FA4-BC39-877BB3D03B55.svs', 'er_status'].values}\")"
   ]
  },
  {
   "cell_type": "code",
   "execution_count": null,
   "metadata": {},
   "outputs": [],
   "source": [
    "concated.to_csv(\"metadata_csvs/largest_with_taylor.csv\", index=False)"
   ]
  },
  {
   "cell_type": "code",
   "execution_count": null,
   "metadata": {},
   "outputs": [
    {
     "name": "stderr",
     "output_type": "stream",
     "text": [
      "/tmp/ipykernel_218515/3703217569.py:1: DtypeWarning: Columns (2,11,12,13,14,15,16,17,18,19,20,21,27,28,31,32,34,35,37,38,40,51,52,53) have mixed types. Specify dtype option on import or set low_memory=False.\n",
      "  taylor_meta = pd.read_csv(\"metadata_csvs/largest_with_taylor.csv\")\n"
     ]
    }
   ],
   "source": [
    "taylor_meta = pd.read_csv(\"metadata_csvs/largest_with_taylor.csv\")"
   ]
  },
  {
   "cell_type": "code",
   "execution_count": null,
   "metadata": {},
   "outputs": [
    {
     "data": {
      "text/plain": [
       "7214    1\n",
       "7215    1\n",
       "7216    1\n",
       "7217    1\n",
       "7218    1\n",
       "       ..\n",
       "8206    1\n",
       "8207    1\n",
       "8208    1\n",
       "8209    1\n",
       "8210    1\n",
       "Name: fold, Length: 997, dtype: int64"
      ]
     },
     "execution_count": 28,
     "metadata": {},
     "output_type": "execute_result"
    }
   ],
   "source": [
    "taylor_meta.loc[pd.Index((taylor_meta[\"id\"]==\"CARMEL9\")), \"fold\"]"
   ]
  },
  {
   "cell_type": "code",
   "execution_count": null,
   "metadata": {},
   "outputs": [
    {
     "data": {
      "text/plain": [
       "8211    1\n",
       "8212    1\n",
       "8213    1\n",
       "8214    1\n",
       "8215    1\n",
       "       ..\n",
       "8685    1\n",
       "8686    1\n",
       "8687    1\n",
       "8688    1\n",
       "8689    1\n",
       "Name: fold, Length: 479, dtype: int64"
      ]
     },
     "execution_count": 29,
     "metadata": {},
     "output_type": "execute_result"
    }
   ],
   "source": [
    "taylor_meta.loc[pd.Index((taylor_meta[\"id\"]==\"CARMEL10\")), \"fold\"]"
   ]
  }
 ],
 "metadata": {
  "kernelspec": {
   "display_name": "conda_master",
   "language": "python",
   "name": "conda_master"
  },
  "language_info": {
   "codemirror_mode": {
    "name": "ipython",
    "version": 3
   },
   "file_extension": ".py",
   "mimetype": "text/x-python",
   "name": "python",
   "nbconvert_exporter": "python",
   "pygments_lexer": "ipython3",
   "version": "3.10.6"
  },
  "orig_nbformat": 4
 },
 "nbformat": 4,
 "nbformat_minor": 2
}
